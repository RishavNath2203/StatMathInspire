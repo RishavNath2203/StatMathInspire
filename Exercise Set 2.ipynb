{
 "cells": [
  {
   "cell_type": "markdown",
   "metadata": {},
   "source": [
    "#### 1)\tPrompt the user for any digit. If the number is even the print “Even Number” otherwise print “Odd Number”"
   ]
  },
  {
   "cell_type": "code",
   "execution_count": null,
   "metadata": {},
   "outputs": [],
   "source": [
    "a = int(input('enter a number: '  ))        # inputing the nuumber\n",
    "if a%2==0:                                 # checking if remainder is zero when divided by 2(% --> modulus operator)\n",
    "    print(a,'is an even number')           # if above condition is satisfied printing it as even number\n",
    "else:\n",
    "    print(a, 'is an odd number')           # or else printing it as odd number"
   ]
  },
  {
   "cell_type": "markdown",
   "metadata": {},
   "source": [
    "#### 2)\tAsk user to enter three numbers. If all the numbers are even then print the product of the numbers else print “All numbers should be even”"
   ]
  },
  {
   "cell_type": "code",
   "execution_count": null,
   "metadata": {},
   "outputs": [],
   "source": [
    "a = int(input('Enter first number: '  ))              #Inputing first number  \n",
    "b = int(input('Enter second number: '  ))             #Inputing second number\n",
    "c = int(input('Enter third number: '  ))              #Inputing thirs number\n",
    "if a%2==0 and b%2==0 and c%2==0:                     # checking if all the conditions match using \"and\" operator\n",
    "    d = a*b*c                                        # calculating the product if all the numbers are even\n",
    "    print('Product of the three numbers are: ', d)   #printing product\n",
    "else:\n",
    "    print('Enter only even numbers')                 # Else asking user to enter all even numbers"
   ]
  },
  {
   "cell_type": "markdown",
   "metadata": {},
   "source": [
    "#### 3)\tPrompt user to enter her/his age. If the age is below 18 print the number of years left to reach 18. If age is above 18, print the number of years passed since she/he was 18 years old."
   ]
  },
  {
   "cell_type": "code",
   "execution_count": null,
   "metadata": {},
   "outputs": [],
   "source": [
    "age = int(input('Enter age: '))                                    #Inputing age \n",
    "if age < 18:                                                       #checking if age is less than 18\n",
    "    a = 18-age\n",
    "    print(a, 'years left to reach 18')                             #printing the years left to reach 18\n",
    "else:\n",
    "    b = age - 18\n",
    "    print(b, 'years passed since the person was 18 years old')     #else printing the years passed since the person was 18 years old "
   ]
  },
  {
   "cell_type": "markdown",
   "metadata": {},
   "source": [
    "#### 4)\tPrompt uses to Enter a number between 0 to 5000. If the number is below 1000 then print 10% of the number. If the number is between 1001 and 2500 print 15% of the number. If the number is between 2501 and 5000 the print 35% of the number."
   ]
  },
  {
   "cell_type": "code",
   "execution_count": 18,
   "metadata": {},
   "outputs": [
    {
     "name": "stdout",
     "output_type": "stream",
     "text": [
      "Enter a number between 0 and 5000: -2\n",
      "Enter number in given range\n"
     ]
    }
   ],
   "source": [
    "num = int(input('Enter a number between 0 and 5000: '))   #Prompting user to input a number between 0 and 5000\n",
    "if num >=0 and num <= 1000:                               #Condition for 10% --> 0 to 1000 (<= : less than or equal to)\n",
    "    print('10 percent of the number is: ', num*0.1)                                       #(>= : greater than or equal to)\n",
    "elif num > 1000 and num <= 2500:                          #Condition for 20% --> 1001 to 2500\n",
    "    print('15 percent of the number is: ', num*0.2)       \n",
    "elif num > 2500 and num <= 5000:                          #Condition for 35% --> 2501 to 5000\n",
    "    print('35 percent of the number is: ', num*0.35)\n",
    "else:                                                     #Condition for anything else other than the above conditions\n",
    "    print('Enter number in given range')"
   ]
  },
  {
   "cell_type": "code",
   "execution_count": 17,
   "metadata": {},
   "outputs": [
    {
     "name": "stdout",
     "output_type": "stream",
     "text": [
      "Enter a number between 0 and 5000: -2\n",
      "Enter number in given range\n"
     ]
    }
   ],
   "source": [
    "# Alternative Way\n",
    "num = int(input('Enter a number between 0 and 5000: '))   #Prompting user to input a number between 0 and 5000\n",
    "if num < 0:                                               #Condition for number below 0\n",
    "    print('Enter number in given range')\n",
    "elif num <= 1000:                                         #Condition for 10% --> 0 to 1000 (<= : less than or equal to)\n",
    "    print('10 percent of the number is: ', num*0.1)                                       #(>= : greater than or equal to)\n",
    "elif num <= 2500:                                         #Condition for 20% --> 1001 to 2500\n",
    "    print('15 percent of the number is: ', num*0.2)       \n",
    "elif num <= 5000:                                         #Condition for 35% --> 2501 to 5000\n",
    "    print('35 percent of the number is: ', num*0.35)\n",
    "else:                                                     #Condition for anything else other than the above conditions\n",
    "    print('Enter number in given range')\n"
   ]
  },
  {
   "cell_type": "code",
   "execution_count": 7,
   "metadata": {},
   "outputs": [
    {
     "data": {
      "text/plain": [
       "200.20000000000002"
      ]
     },
     "execution_count": 7,
     "metadata": {},
     "output_type": "execute_result"
    }
   ],
   "source": [
    "1001*0.2"
   ]
  },
  {
   "cell_type": "markdown",
   "metadata": {},
   "source": [
    "#### 5)\tAsk the user to enter a temperature in Celsius. The program should print a message based on the temperature:\n",
    "*\tIf the temperature is less than -273.15, print that the temperature is invalid because it is below absolute zero.\n",
    "*\tIf it is exactly -273.15, print that the temperature is absolute 0.\n",
    "*\tIf the temperature is between -273.15 and 0, print that the temperature is below freezing.\n",
    "*\tIf it is 0, print that the temperature is at the freezing point.\n",
    "*\tIf it is between 0 and 100, print that the temperature is in the normal range.\n",
    "*\tIf it is 100, print that the temperature is at the boiling point.\n",
    "*\tIf it is above 100, print that the temperature is above the boiling point.\n"
   ]
  },
  {
   "cell_type": "code",
   "execution_count": 25,
   "metadata": {},
   "outputs": [
    {
     "name": "stdout",
     "output_type": "stream",
     "text": [
      "Enter a number in celsuis: 101\n",
      "The temperature is above the boiling point\n"
     ]
    }
   ],
   "source": [
    "temp = float(input('Enter a number in celsuis: ' ))                    # inputing a number\n",
    "if temp < -273.15:                                                     # checking if temperature is less than -273.15\n",
    "    print('The temperature is invalid because it is below absolute zero')\n",
    "elif temp == -273.15:                                                  # checking if temperature is equal to -273.15\n",
    "    print('The temperature is absolute 0')                             # = : assigning     == : condition check\n",
    "elif temp > -273.15 and temp < 0:                                      # checking if temperature is in between -273.15 and 0\n",
    "    print('The temperature is below freezing')                         \n",
    "elif temp == 0:                                                        # checking if temperature is equal to 0\n",
    "    print('The  temperature is at the freezing point')                \n",
    "elif temp > 0 and temp < 100:                                          # checking if temperature is in between 0 and 100\n",
    "    print('The temperature is in the normal range ')                  \n",
    "elif temp == 100:                                                      # checking if temperature is equal to 100\n",
    "    print('The temperature is at the boiling point')                   \n",
    "else:                                                                  # checking if temperature is beyond 100\n",
    "     print('The temperature is above the boiling point')"
   ]
  },
  {
   "cell_type": "code",
   "execution_count": null,
   "metadata": {},
   "outputs": [],
   "source": [
    "# Alternate Way\n",
    "temp = float(input('Enter a number in celsuis: ' ))                    # inputing a number\n",
    "if temp < -273.15:                                                     # checking if temperature is less than -273.15\n",
    "    print('The temperature is invalid because it is below absolute zero')\n",
    "elif temp == -273.15:                                                  # checking if temperature is equal to -273.15\n",
    "    print('The temperature is absolute 0')                             # = : assigning     == : condition check\n",
    "elif temp < 0:                                      # checking if temperature is in between -273.15 and 0\n",
    "    print('The temperature is below freezing')                         \n",
    "elif temp == 0:                                                        # checking if temperature is equal to 0\n",
    "    print('The  temperature is at the freezing point')                \n",
    "elif temp < 100:                                          # checking if temperature is in between 0 and 100\n",
    "    print('The temperature is in the normal range ')                  \n",
    "elif temp == 100:                                                      # checking if temperature is equal to 100\n",
    "    print('The temperature is at the boiling point')                   \n",
    "else:                                                                  # checking if temperature is beyond 100\n",
    "     print('The temperature is above the boiling point')"
   ]
  }
 ],
 "metadata": {
  "kernelspec": {
   "display_name": "Python 3",
   "language": "python",
   "name": "python3"
  },
  "language_info": {
   "codemirror_mode": {
    "name": "ipython",
    "version": 3
   },
   "file_extension": ".py",
   "mimetype": "text/x-python",
   "name": "python",
   "nbconvert_exporter": "python",
   "pygments_lexer": "ipython3",
   "version": "3.8.5"
  }
 },
 "nbformat": 4,
 "nbformat_minor": 4
}
